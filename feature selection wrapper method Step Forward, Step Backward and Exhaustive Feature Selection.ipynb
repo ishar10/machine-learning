{
 "cells": [
  {
   "cell_type": "markdown",
   "metadata": {},
   "source": [
    "Wrapping method\n",
    "\n",
    "Uses of Wrapping method\n",
    "\n",
    "Use combinations of variables to determine predictive power.\n",
    "\n",
    "To find the best combination of variables.\n",
    "\n",
    "Computationally expensive than filter method.\n",
    "\n",
    "To perform better than filter method.\n",
    "\n",
    "Not recommended on high number of features."
   ]
  },
  {
   "cell_type": "markdown",
   "metadata": {},
   "source": [
    "Forward Step Selection\n",
    "\n",
    "In this wrapping method, it selects one best feature every time and finally it combines all the best features for the best accuracy.\n",
    "\n",
    "Backward Step Selection\n",
    "\n",
    "It is reverse process of Forward Step Selection method, intially it takes all the features and remove one by one every time. Finally it left with required number of features for the best accuracy.\n",
    "\n",
    "Exhaustive Feature Selection\n",
    "\n",
    "It is also called as subset selection method.\n",
    "\n",
    "It fits the model with each possible combinations of N features.\n",
    "\n",
    "( y = B0, y = B0 + B1.X1, y = C0 + C1.X2 )\n",
    "\n",
    "It requires massive computational power.\n",
    "\n",
    "It uses test error to evaluate model performance.\n",
    "\n",
    "Drawback\n",
    "\n",
    "It is a slower method compared to step forward and back ward methods."
   ]
  },
  {
   "cell_type": "code",
   "execution_count": 1,
   "metadata": {},
   "outputs": [
    {
     "name": "stdout",
     "output_type": "stream",
     "text": [
      "Collecting mlxtend\n",
      "  Downloading mlxtend-0.17.3-py2.py3-none-any.whl (1.3 MB)\n",
      "Requirement already satisfied: scikit-learn>=0.20.3 in c:\\users\\hp\\anaconda3\\lib\\site-packages (from mlxtend) (0.23.1)\n",
      "Requirement already satisfied: matplotlib>=3.0.0 in c:\\users\\hp\\anaconda3\\lib\\site-packages (from mlxtend) (3.2.2)\n",
      "Requirement already satisfied: numpy>=1.16.2 in c:\\users\\hp\\anaconda3\\lib\\site-packages (from mlxtend) (1.18.5)\n",
      "Requirement already satisfied: pandas>=0.24.2 in c:\\users\\hp\\anaconda3\\lib\\site-packages (from mlxtend) (1.0.5)\n",
      "Requirement already satisfied: joblib>=0.13.2 in c:\\users\\hp\\anaconda3\\lib\\site-packages (from mlxtend) (0.16.0)\n",
      "Requirement already satisfied: scipy>=1.2.1 in c:\\users\\hp\\anaconda3\\lib\\site-packages (from mlxtend) (1.5.0)\n",
      "Requirement already satisfied: setuptools in c:\\users\\hp\\anaconda3\\lib\\site-packages (from mlxtend) (49.2.0.post20200714)\n",
      "Requirement already satisfied: threadpoolctl>=2.0.0 in c:\\users\\hp\\anaconda3\\lib\\site-packages (from scikit-learn>=0.20.3->mlxtend) (2.1.0)\n",
      "Requirement already satisfied: pyparsing!=2.0.4,!=2.1.2,!=2.1.6,>=2.0.1 in c:\\users\\hp\\anaconda3\\lib\\site-packages (from matplotlib>=3.0.0->mlxtend) (2.4.7)\n",
      "Requirement already satisfied: cycler>=0.10 in c:\\users\\hp\\anaconda3\\lib\\site-packages (from matplotlib>=3.0.0->mlxtend) (0.10.0)\n",
      "Requirement already satisfied: kiwisolver>=1.0.1 in c:\\users\\hp\\anaconda3\\lib\\site-packages (from matplotlib>=3.0.0->mlxtend) (1.2.0)\n",
      "Requirement already satisfied: python-dateutil>=2.1 in c:\\users\\hp\\anaconda3\\lib\\site-packages (from matplotlib>=3.0.0->mlxtend) (2.8.1)\n",
      "Requirement already satisfied: pytz>=2017.2 in c:\\users\\hp\\anaconda3\\lib\\site-packages (from pandas>=0.24.2->mlxtend) (2020.1)\n",
      "Requirement already satisfied: six in c:\\users\\hp\\anaconda3\\lib\\site-packages (from cycler>=0.10->matplotlib>=3.0.0->mlxtend) (1.15.0)\n",
      "Installing collected packages: mlxtend\n",
      "Successfully installed mlxtend-0.17.3\n"
     ]
    }
   ],
   "source": [
    "!pip install mlxtend"
   ]
  },
  {
   "cell_type": "markdown",
   "metadata": {},
   "source": [
    "How it works\n",
    "\n",
    "Sequential feature selection algorithms are a family of greedy search algorithms that are used to reduce an initial d-dimensional feature space to a k-dimensional feature subspace where k < d.\n",
    "\n",
    "In a nutshell, SFAs remove or add one feature at the time based on the classifier performance until a feature subset of the desired size k is reached. There are 4 different flavors of SFAs available via the SequentialFeatureSelector:\n",
    "\n",
    "Sequential Forward Selection (SFS)\n",
    "\n",
    "Sequential Backward Selection (SBS)\n",
    "\n",
    "Sequential Forward Floating Selection (SFFS)\n",
    "\n",
    "Sequential Backward Floating Selection (SBFS)"
   ]
  },
  {
   "cell_type": "markdown",
   "metadata": {},
   "source": [
    "# Step Forward Selection (SFS)"
   ]
  },
  {
   "cell_type": "code",
   "execution_count": 2,
   "metadata": {},
   "outputs": [],
   "source": [
    "import numpy as np\n",
    "import pandas as pd\n",
    "import seaborn as sns\n",
    "import matplotlib.pyplot as plt\n",
    "%matplotlib inline"
   ]
  },
  {
   "cell_type": "code",
   "execution_count": 3,
   "metadata": {},
   "outputs": [],
   "source": [
    "from sklearn.model_selection import train_test_split\n",
    "from sklearn.ensemble import RandomForestRegressor, RandomForestClassifier\n",
    "from sklearn.metrics import roc_auc_score\n",
    "from mlxtend.feature_selection import SequentialFeatureSelector as SFS"
   ]
  },
  {
   "cell_type": "code",
   "execution_count": 4,
   "metadata": {},
   "outputs": [],
   "source": [
    "from sklearn.datasets import load_wine\n",
    "from sklearn.preprocessing import StandardScaler"
   ]
  },
  {
   "cell_type": "code",
   "execution_count": 5,
   "metadata": {},
   "outputs": [],
   "source": [
    "data = load_wine()"
   ]
  },
  {
   "cell_type": "code",
   "execution_count": 6,
   "metadata": {},
   "outputs": [
    {
     "data": {
      "text/plain": [
       "dict_keys(['data', 'target', 'frame', 'target_names', 'DESCR', 'feature_names'])"
      ]
     },
     "execution_count": 6,
     "metadata": {},
     "output_type": "execute_result"
    }
   ],
   "source": [
    "data.keys()"
   ]
  },
  {
   "cell_type": "code",
   "execution_count": 7,
   "metadata": {},
   "outputs": [
    {
     "name": "stdout",
     "output_type": "stream",
     "text": [
      ".. _wine_dataset:\n",
      "\n",
      "Wine recognition dataset\n",
      "------------------------\n",
      "\n",
      "**Data Set Characteristics:**\n",
      "\n",
      "    :Number of Instances: 178 (50 in each of three classes)\n",
      "    :Number of Attributes: 13 numeric, predictive attributes and the class\n",
      "    :Attribute Information:\n",
      " \t\t- Alcohol\n",
      " \t\t- Malic acid\n",
      " \t\t- Ash\n",
      "\t\t- Alcalinity of ash  \n",
      " \t\t- Magnesium\n",
      "\t\t- Total phenols\n",
      " \t\t- Flavanoids\n",
      " \t\t- Nonflavanoid phenols\n",
      " \t\t- Proanthocyanins\n",
      "\t\t- Color intensity\n",
      " \t\t- Hue\n",
      " \t\t- OD280/OD315 of diluted wines\n",
      " \t\t- Proline\n",
      "\n",
      "    - class:\n",
      "            - class_0\n",
      "            - class_1\n",
      "            - class_2\n",
      "\t\t\n",
      "    :Summary Statistics:\n",
      "    \n",
      "    ============================= ==== ===== ======= =====\n",
      "                                   Min   Max   Mean     SD\n",
      "    ============================= ==== ===== ======= =====\n",
      "    Alcohol:                      11.0  14.8    13.0   0.8\n",
      "    Malic Acid:                   0.74  5.80    2.34  1.12\n",
      "    Ash:                          1.36  3.23    2.36  0.27\n",
      "    Alcalinity of Ash:            10.6  30.0    19.5   3.3\n",
      "    Magnesium:                    70.0 162.0    99.7  14.3\n",
      "    Total Phenols:                0.98  3.88    2.29  0.63\n",
      "    Flavanoids:                   0.34  5.08    2.03  1.00\n",
      "    Nonflavanoid Phenols:         0.13  0.66    0.36  0.12\n",
      "    Proanthocyanins:              0.41  3.58    1.59  0.57\n",
      "    Colour Intensity:              1.3  13.0     5.1   2.3\n",
      "    Hue:                          0.48  1.71    0.96  0.23\n",
      "    OD280/OD315 of diluted wines: 1.27  4.00    2.61  0.71\n",
      "    Proline:                       278  1680     746   315\n",
      "    ============================= ==== ===== ======= =====\n",
      "\n",
      "    :Missing Attribute Values: None\n",
      "    :Class Distribution: class_0 (59), class_1 (71), class_2 (48)\n",
      "    :Creator: R.A. Fisher\n",
      "    :Donor: Michael Marshall (MARSHALL%PLU@io.arc.nasa.gov)\n",
      "    :Date: July, 1988\n",
      "\n",
      "This is a copy of UCI ML Wine recognition datasets.\n",
      "https://archive.ics.uci.edu/ml/machine-learning-databases/wine/wine.data\n",
      "\n",
      "The data is the results of a chemical analysis of wines grown in the same\n",
      "region in Italy by three different cultivators. There are thirteen different\n",
      "measurements taken for different constituents found in the three types of\n",
      "wine.\n",
      "\n",
      "Original Owners: \n",
      "\n",
      "Forina, M. et al, PARVUS - \n",
      "An Extendible Package for Data Exploration, Classification and Correlation. \n",
      "Institute of Pharmaceutical and Food Analysis and Technologies,\n",
      "Via Brigata Salerno, 16147 Genoa, Italy.\n",
      "\n",
      "Citation:\n",
      "\n",
      "Lichman, M. (2013). UCI Machine Learning Repository\n",
      "[https://archive.ics.uci.edu/ml]. Irvine, CA: University of California,\n",
      "School of Information and Computer Science. \n",
      "\n",
      ".. topic:: References\n",
      "\n",
      "  (1) S. Aeberhard, D. Coomans and O. de Vel, \n",
      "  Comparison of Classifiers in High Dimensional Settings, \n",
      "  Tech. Rep. no. 92-02, (1992), Dept. of Computer Science and Dept. of  \n",
      "  Mathematics and Statistics, James Cook University of North Queensland. \n",
      "  (Also submitted to Technometrics). \n",
      "\n",
      "  The data was used with many others for comparing various \n",
      "  classifiers. The classes are separable, though only RDA \n",
      "  has achieved 100% correct classification. \n",
      "  (RDA : 100%, QDA 99.4%, LDA 98.9%, 1NN 96.1% (z-transformed data)) \n",
      "  (All results using the leave-one-out technique) \n",
      "\n",
      "  (2) S. Aeberhard, D. Coomans and O. de Vel, \n",
      "  \"THE CLASSIFICATION PERFORMANCE OF RDA\" \n",
      "  Tech. Rep. no. 92-01, (1992), Dept. of Computer Science and Dept. of \n",
      "  Mathematics and Statistics, James Cook University of North Queensland. \n",
      "  (Also submitted to Journal of Chemometrics).\n",
      "\n"
     ]
    }
   ],
   "source": [
    "print(data.DESCR)"
   ]
  },
  {
   "cell_type": "code",
   "execution_count": 8,
   "metadata": {},
   "outputs": [],
   "source": [
    "X = pd.DataFrame(data.data)\n",
    "y = data.target"
   ]
  },
  {
   "cell_type": "code",
   "execution_count": 9,
   "metadata": {},
   "outputs": [
    {
     "data": {
      "text/html": [
       "<div>\n",
       "<style scoped>\n",
       "    .dataframe tbody tr th:only-of-type {\n",
       "        vertical-align: middle;\n",
       "    }\n",
       "\n",
       "    .dataframe tbody tr th {\n",
       "        vertical-align: top;\n",
       "    }\n",
       "\n",
       "    .dataframe thead th {\n",
       "        text-align: right;\n",
       "    }\n",
       "</style>\n",
       "<table border=\"1\" class=\"dataframe\">\n",
       "  <thead>\n",
       "    <tr style=\"text-align: right;\">\n",
       "      <th></th>\n",
       "      <th>alcohol</th>\n",
       "      <th>malic_acid</th>\n",
       "      <th>ash</th>\n",
       "      <th>alcalinity_of_ash</th>\n",
       "      <th>magnesium</th>\n",
       "      <th>total_phenols</th>\n",
       "      <th>flavanoids</th>\n",
       "      <th>nonflavanoid_phenols</th>\n",
       "      <th>proanthocyanins</th>\n",
       "      <th>color_intensity</th>\n",
       "      <th>hue</th>\n",
       "      <th>od280/od315_of_diluted_wines</th>\n",
       "      <th>proline</th>\n",
       "    </tr>\n",
       "  </thead>\n",
       "  <tbody>\n",
       "    <tr>\n",
       "      <th>0</th>\n",
       "      <td>14.23</td>\n",
       "      <td>1.71</td>\n",
       "      <td>2.43</td>\n",
       "      <td>15.6</td>\n",
       "      <td>127.0</td>\n",
       "      <td>2.80</td>\n",
       "      <td>3.06</td>\n",
       "      <td>0.28</td>\n",
       "      <td>2.29</td>\n",
       "      <td>5.64</td>\n",
       "      <td>1.04</td>\n",
       "      <td>3.92</td>\n",
       "      <td>1065.0</td>\n",
       "    </tr>\n",
       "    <tr>\n",
       "      <th>1</th>\n",
       "      <td>13.20</td>\n",
       "      <td>1.78</td>\n",
       "      <td>2.14</td>\n",
       "      <td>11.2</td>\n",
       "      <td>100.0</td>\n",
       "      <td>2.65</td>\n",
       "      <td>2.76</td>\n",
       "      <td>0.26</td>\n",
       "      <td>1.28</td>\n",
       "      <td>4.38</td>\n",
       "      <td>1.05</td>\n",
       "      <td>3.40</td>\n",
       "      <td>1050.0</td>\n",
       "    </tr>\n",
       "    <tr>\n",
       "      <th>2</th>\n",
       "      <td>13.16</td>\n",
       "      <td>2.36</td>\n",
       "      <td>2.67</td>\n",
       "      <td>18.6</td>\n",
       "      <td>101.0</td>\n",
       "      <td>2.80</td>\n",
       "      <td>3.24</td>\n",
       "      <td>0.30</td>\n",
       "      <td>2.81</td>\n",
       "      <td>5.68</td>\n",
       "      <td>1.03</td>\n",
       "      <td>3.17</td>\n",
       "      <td>1185.0</td>\n",
       "    </tr>\n",
       "    <tr>\n",
       "      <th>3</th>\n",
       "      <td>14.37</td>\n",
       "      <td>1.95</td>\n",
       "      <td>2.50</td>\n",
       "      <td>16.8</td>\n",
       "      <td>113.0</td>\n",
       "      <td>3.85</td>\n",
       "      <td>3.49</td>\n",
       "      <td>0.24</td>\n",
       "      <td>2.18</td>\n",
       "      <td>7.80</td>\n",
       "      <td>0.86</td>\n",
       "      <td>3.45</td>\n",
       "      <td>1480.0</td>\n",
       "    </tr>\n",
       "    <tr>\n",
       "      <th>4</th>\n",
       "      <td>13.24</td>\n",
       "      <td>2.59</td>\n",
       "      <td>2.87</td>\n",
       "      <td>21.0</td>\n",
       "      <td>118.0</td>\n",
       "      <td>2.80</td>\n",
       "      <td>2.69</td>\n",
       "      <td>0.39</td>\n",
       "      <td>1.82</td>\n",
       "      <td>4.32</td>\n",
       "      <td>1.04</td>\n",
       "      <td>2.93</td>\n",
       "      <td>735.0</td>\n",
       "    </tr>\n",
       "  </tbody>\n",
       "</table>\n",
       "</div>"
      ],
      "text/plain": [
       "   alcohol  malic_acid   ash  alcalinity_of_ash  magnesium  total_phenols  \\\n",
       "0    14.23        1.71  2.43               15.6      127.0           2.80   \n",
       "1    13.20        1.78  2.14               11.2      100.0           2.65   \n",
       "2    13.16        2.36  2.67               18.6      101.0           2.80   \n",
       "3    14.37        1.95  2.50               16.8      113.0           3.85   \n",
       "4    13.24        2.59  2.87               21.0      118.0           2.80   \n",
       "\n",
       "   flavanoids  nonflavanoid_phenols  proanthocyanins  color_intensity   hue  \\\n",
       "0        3.06                  0.28             2.29             5.64  1.04   \n",
       "1        2.76                  0.26             1.28             4.38  1.05   \n",
       "2        3.24                  0.30             2.81             5.68  1.03   \n",
       "3        3.49                  0.24             2.18             7.80  0.86   \n",
       "4        2.69                  0.39             1.82             4.32  1.04   \n",
       "\n",
       "   od280/od315_of_diluted_wines  proline  \n",
       "0                          3.92   1065.0  \n",
       "1                          3.40   1050.0  \n",
       "2                          3.17   1185.0  \n",
       "3                          3.45   1480.0  \n",
       "4                          2.93    735.0  "
      ]
     },
     "execution_count": 9,
     "metadata": {},
     "output_type": "execute_result"
    }
   ],
   "source": [
    "X.columns = data.feature_names\n",
    "X.head()"
   ]
  },
  {
   "cell_type": "code",
   "execution_count": 10,
   "metadata": {},
   "outputs": [
    {
     "data": {
      "text/plain": [
       "alcohol                         0\n",
       "malic_acid                      0\n",
       "ash                             0\n",
       "alcalinity_of_ash               0\n",
       "magnesium                       0\n",
       "total_phenols                   0\n",
       "flavanoids                      0\n",
       "nonflavanoid_phenols            0\n",
       "proanthocyanins                 0\n",
       "color_intensity                 0\n",
       "hue                             0\n",
       "od280/od315_of_diluted_wines    0\n",
       "proline                         0\n",
       "dtype: int64"
      ]
     },
     "execution_count": 10,
     "metadata": {},
     "output_type": "execute_result"
    }
   ],
   "source": [
    "X.isnull().sum()"
   ]
  },
  {
   "cell_type": "code",
   "execution_count": 11,
   "metadata": {},
   "outputs": [
    {
     "data": {
      "text/plain": [
       "array([0, 0, 0, 0, 0, 0, 0, 0, 0, 0, 0, 0, 0, 0, 0, 0, 0, 0, 0, 0, 0, 0,\n",
       "       0, 0, 0, 0, 0, 0, 0, 0, 0, 0, 0, 0, 0, 0, 0, 0, 0, 0, 0, 0, 0, 0,\n",
       "       0, 0, 0, 0, 0, 0, 0, 0, 0, 0, 0, 0, 0, 0, 0, 1, 1, 1, 1, 1, 1, 1,\n",
       "       1, 1, 1, 1, 1, 1, 1, 1, 1, 1, 1, 1, 1, 1, 1, 1, 1, 1, 1, 1, 1, 1,\n",
       "       1, 1, 1, 1, 1, 1, 1, 1, 1, 1, 1, 1, 1, 1, 1, 1, 1, 1, 1, 1, 1, 1,\n",
       "       1, 1, 1, 1, 1, 1, 1, 1, 1, 1, 1, 1, 1, 1, 1, 1, 1, 1, 1, 1, 2, 2,\n",
       "       2, 2, 2, 2, 2, 2, 2, 2, 2, 2, 2, 2, 2, 2, 2, 2, 2, 2, 2, 2, 2, 2,\n",
       "       2, 2, 2, 2, 2, 2, 2, 2, 2, 2, 2, 2, 2, 2, 2, 2, 2, 2, 2, 2, 2, 2,\n",
       "       2, 2])"
      ]
     },
     "execution_count": 11,
     "metadata": {},
     "output_type": "execute_result"
    }
   ],
   "source": [
    "y"
   ]
  },
  {
   "cell_type": "code",
   "execution_count": 12,
   "metadata": {},
   "outputs": [
    {
     "data": {
      "text/plain": [
       "((142, 13), (36, 13))"
      ]
     },
     "execution_count": 12,
     "metadata": {},
     "output_type": "execute_result"
    }
   ],
   "source": [
    "X_train, X_test, y_train, y_test = train_test_split(X, y, test_size = 0.2, random_state = 0)\n",
    "X_train.shape, X_test.shape"
   ]
  },
  {
   "cell_type": "markdown",
   "metadata": {},
   "source": [
    "Step Forward Feature Selection (SFS)\n",
    "\n",
    "Here, we are using SequentialFeatureSelector() and passing Random Forest Classifier in this we are passing number of estimators, random_state and number of jobs.\n",
    "\n",
    "k number of features are the required number of features.\n",
    "In this case, since it is forward step method, forward is equal to True.\n",
    "For verbose it is for log here we are using 2.\n",
    "Cross validation set,here we are choosing as 4.\n",
    "Number of jobs means how many cores we will use, here -1 means use all the available core in this system."
   ]
  },
  {
   "cell_type": "code",
   "execution_count": 13,
   "metadata": {},
   "outputs": [
    {
     "name": "stderr",
     "output_type": "stream",
     "text": [
      "[Parallel(n_jobs=-1)]: Using backend LokyBackend with 8 concurrent workers.\n",
      "[Parallel(n_jobs=-1)]: Done   5 out of  13 | elapsed:    3.7s remaining:    6.0s\n",
      "[Parallel(n_jobs=-1)]: Done  13 out of  13 | elapsed:    5.1s finished\n",
      "\n",
      "[2020-10-26 12:58:15] Features: 1/7 -- score: 0.7674603174603174[Parallel(n_jobs=-1)]: Using backend LokyBackend with 8 concurrent workers.\n",
      "[Parallel(n_jobs=-1)]: Done   4 out of  12 | elapsed:    1.5s remaining:    3.1s\n",
      "[Parallel(n_jobs=-1)]: Done  12 out of  12 | elapsed:    2.6s finished\n",
      "\n",
      "[2020-10-26 12:58:17] Features: 2/7 -- score: 0.9718253968253968[Parallel(n_jobs=-1)]: Using backend LokyBackend with 8 concurrent workers.\n",
      "[Parallel(n_jobs=-1)]: Done   2 out of  11 | elapsed:    1.5s remaining:    7.0s\n",
      "[Parallel(n_jobs=-1)]: Done   8 out of  11 | elapsed:    1.8s remaining:    0.6s\n",
      "[Parallel(n_jobs=-1)]: Done  11 out of  11 | elapsed:    2.7s finished\n",
      "\n",
      "[2020-10-26 12:58:20] Features: 3/7 -- score: 0.9859126984126985[Parallel(n_jobs=-1)]: Using backend LokyBackend with 8 concurrent workers.\n",
      "[Parallel(n_jobs=-1)]: Done   7 out of  10 | elapsed:    1.8s remaining:    0.7s\n",
      "[Parallel(n_jobs=-1)]: Done  10 out of  10 | elapsed:    2.7s finished\n",
      "\n",
      "[2020-10-26 12:58:23] Features: 4/7 -- score: 0.9789682539682539[Parallel(n_jobs=-1)]: Using backend LokyBackend with 8 concurrent workers.\n",
      "[Parallel(n_jobs=-1)]: Done   4 out of   9 | elapsed:    1.5s remaining:    1.9s\n",
      "[Parallel(n_jobs=-1)]: Done   9 out of   9 | elapsed:    2.3s remaining:    0.0s\n",
      "[Parallel(n_jobs=-1)]: Done   9 out of   9 | elapsed:    2.3s finished\n",
      "\n",
      "[2020-10-26 12:58:25] Features: 5/7 -- score: 0.9720238095238095[Parallel(n_jobs=-1)]: Using backend LokyBackend with 8 concurrent workers.\n",
      "[Parallel(n_jobs=-1)]: Done   3 out of   8 | elapsed:    1.5s remaining:    2.5s\n",
      "[Parallel(n_jobs=-1)]: Done   8 out of   8 | elapsed:    1.6s remaining:    0.0s\n",
      "[Parallel(n_jobs=-1)]: Done   8 out of   8 | elapsed:    1.6s finished\n",
      "\n",
      "[2020-10-26 12:58:27] Features: 6/7 -- score: 0.9789682539682539[Parallel(n_jobs=-1)]: Using backend LokyBackend with 8 concurrent workers.\n",
      "[Parallel(n_jobs=-1)]: Done   4 out of   7 | elapsed:    1.4s remaining:    1.0s\n",
      "[Parallel(n_jobs=-1)]: Done   7 out of   7 | elapsed:    1.4s finished\n",
      "\n",
      "[2020-10-26 12:58:28] Features: 7/7 -- score: 0.9791666666666666"
     ]
    }
   ],
   "source": [
    "sfs = SFS(RandomForestClassifier(n_estimators=100, random_state=0, n_jobs = -1),\n",
    "         k_features = 7,\n",
    "          forward= True,\n",
    "          floating = False,\n",
    "          verbose= 2,\n",
    "          scoring= 'accuracy',\n",
    "          cv = 4,\n",
    "          n_jobs= -1\n",
    "         ).fit(X_train, y_train)"
   ]
  },
  {
   "cell_type": "code",
   "execution_count": 14,
   "metadata": {},
   "outputs": [
    {
     "data": {
      "text/plain": [
       "('alcohol',\n",
       " 'ash',\n",
       " 'magnesium',\n",
       " 'flavanoids',\n",
       " 'proanthocyanins',\n",
       " 'color_intensity',\n",
       " 'proline')"
      ]
     },
     "execution_count": 14,
     "metadata": {},
     "output_type": "execute_result"
    }
   ],
   "source": [
    "sfs.k_feature_names_"
   ]
  },
  {
   "cell_type": "code",
   "execution_count": 15,
   "metadata": {},
   "outputs": [
    {
     "data": {
      "text/plain": [
       "(0, 2, 4, 6, 8, 9, 12)"
      ]
     },
     "execution_count": 15,
     "metadata": {},
     "output_type": "execute_result"
    }
   ],
   "source": [
    "sfs.k_feature_idx_"
   ]
  },
  {
   "cell_type": "code",
   "execution_count": 16,
   "metadata": {},
   "outputs": [
    {
     "data": {
      "text/plain": [
       "0.9791666666666666"
      ]
     },
     "execution_count": 16,
     "metadata": {},
     "output_type": "execute_result"
    }
   ],
   "source": [
    "sfs.k_score_ #max accuracy"
   ]
  },
  {
   "cell_type": "code",
   "execution_count": 17,
   "metadata": {},
   "outputs": [
    {
     "data": {
      "text/html": [
       "<div>\n",
       "<style scoped>\n",
       "    .dataframe tbody tr th:only-of-type {\n",
       "        vertical-align: middle;\n",
       "    }\n",
       "\n",
       "    .dataframe tbody tr th {\n",
       "        vertical-align: top;\n",
       "    }\n",
       "\n",
       "    .dataframe thead th {\n",
       "        text-align: right;\n",
       "    }\n",
       "</style>\n",
       "<table border=\"1\" class=\"dataframe\">\n",
       "  <thead>\n",
       "    <tr style=\"text-align: right;\">\n",
       "      <th></th>\n",
       "      <th>feature_idx</th>\n",
       "      <th>cv_scores</th>\n",
       "      <th>avg_score</th>\n",
       "      <th>feature_names</th>\n",
       "      <th>ci_bound</th>\n",
       "      <th>std_dev</th>\n",
       "      <th>std_err</th>\n",
       "    </tr>\n",
       "  </thead>\n",
       "  <tbody>\n",
       "    <tr>\n",
       "      <th>1</th>\n",
       "      <td>(6,)</td>\n",
       "      <td>[0.7222222222222222, 0.8333333333333334, 0.742...</td>\n",
       "      <td>0.76746</td>\n",
       "      <td>(flavanoids,)</td>\n",
       "      <td>0.0670901</td>\n",
       "      <td>0.0418533</td>\n",
       "      <td>0.024164</td>\n",
       "    </tr>\n",
       "    <tr>\n",
       "      <th>2</th>\n",
       "      <td>(6, 9)</td>\n",
       "      <td>[0.9444444444444444, 1.0, 0.9714285714285714, ...</td>\n",
       "      <td>0.971825</td>\n",
       "      <td>(flavanoids, color_intensity)</td>\n",
       "      <td>0.031492</td>\n",
       "      <td>0.0196459</td>\n",
       "      <td>0.0113425</td>\n",
       "    </tr>\n",
       "    <tr>\n",
       "      <th>3</th>\n",
       "      <td>(4, 6, 9)</td>\n",
       "      <td>[0.9722222222222222, 1.0, 0.9714285714285714, ...</td>\n",
       "      <td>0.985913</td>\n",
       "      <td>(magnesium, flavanoids, color_intensity)</td>\n",
       "      <td>0.0225862</td>\n",
       "      <td>0.0140901</td>\n",
       "      <td>0.00813492</td>\n",
       "    </tr>\n",
       "    <tr>\n",
       "      <th>4</th>\n",
       "      <td>(4, 6, 9, 12)</td>\n",
       "      <td>[0.9722222222222222, 0.9722222222222222, 0.971...</td>\n",
       "      <td>0.978968</td>\n",
       "      <td>(magnesium, flavanoids, color_intensity, proline)</td>\n",
       "      <td>0.0194714</td>\n",
       "      <td>0.012147</td>\n",
       "      <td>0.00701308</td>\n",
       "    </tr>\n",
       "    <tr>\n",
       "      <th>5</th>\n",
       "      <td>(2, 4, 6, 9, 12)</td>\n",
       "      <td>[0.9444444444444444, 0.9722222222222222, 0.971...</td>\n",
       "      <td>0.972024</td>\n",
       "      <td>(ash, magnesium, flavanoids, color_intensity, ...</td>\n",
       "      <td>0.0314903</td>\n",
       "      <td>0.0196449</td>\n",
       "      <td>0.011342</td>\n",
       "    </tr>\n",
       "    <tr>\n",
       "      <th>6</th>\n",
       "      <td>(2, 4, 6, 8, 9, 12)</td>\n",
       "      <td>[0.9722222222222222, 0.9722222222222222, 0.971...</td>\n",
       "      <td>0.978968</td>\n",
       "      <td>(ash, magnesium, flavanoids, proanthocyanins, ...</td>\n",
       "      <td>0.0194714</td>\n",
       "      <td>0.012147</td>\n",
       "      <td>0.00701308</td>\n",
       "    </tr>\n",
       "    <tr>\n",
       "      <th>7</th>\n",
       "      <td>(0, 2, 4, 6, 8, 9, 12)</td>\n",
       "      <td>[0.9444444444444444, 0.9722222222222222, 1.0, ...</td>\n",
       "      <td>0.979167</td>\n",
       "      <td>(alcohol, ash, magnesium, flavanoids, proantho...</td>\n",
       "      <td>0.0369201</td>\n",
       "      <td>0.0230321</td>\n",
       "      <td>0.0132976</td>\n",
       "    </tr>\n",
       "  </tbody>\n",
       "</table>\n",
       "</div>"
      ],
      "text/plain": [
       "              feature_idx                                          cv_scores  \\\n",
       "1                    (6,)  [0.7222222222222222, 0.8333333333333334, 0.742...   \n",
       "2                  (6, 9)  [0.9444444444444444, 1.0, 0.9714285714285714, ...   \n",
       "3               (4, 6, 9)  [0.9722222222222222, 1.0, 0.9714285714285714, ...   \n",
       "4           (4, 6, 9, 12)  [0.9722222222222222, 0.9722222222222222, 0.971...   \n",
       "5        (2, 4, 6, 9, 12)  [0.9444444444444444, 0.9722222222222222, 0.971...   \n",
       "6     (2, 4, 6, 8, 9, 12)  [0.9722222222222222, 0.9722222222222222, 0.971...   \n",
       "7  (0, 2, 4, 6, 8, 9, 12)  [0.9444444444444444, 0.9722222222222222, 1.0, ...   \n",
       "\n",
       "  avg_score                                      feature_names   ci_bound  \\\n",
       "1   0.76746                                      (flavanoids,)  0.0670901   \n",
       "2  0.971825                      (flavanoids, color_intensity)   0.031492   \n",
       "3  0.985913           (magnesium, flavanoids, color_intensity)  0.0225862   \n",
       "4  0.978968  (magnesium, flavanoids, color_intensity, proline)  0.0194714   \n",
       "5  0.972024  (ash, magnesium, flavanoids, color_intensity, ...  0.0314903   \n",
       "6  0.978968  (ash, magnesium, flavanoids, proanthocyanins, ...  0.0194714   \n",
       "7  0.979167  (alcohol, ash, magnesium, flavanoids, proantho...  0.0369201   \n",
       "\n",
       "     std_dev     std_err  \n",
       "1  0.0418533    0.024164  \n",
       "2  0.0196459   0.0113425  \n",
       "3  0.0140901  0.00813492  \n",
       "4   0.012147  0.00701308  \n",
       "5  0.0196449    0.011342  \n",
       "6   0.012147  0.00701308  \n",
       "7  0.0230321   0.0132976  "
      ]
     },
     "execution_count": 17,
     "metadata": {},
     "output_type": "execute_result"
    }
   ],
   "source": [
    "pd.DataFrame.from_dict(sfs.get_metric_dict()).T"
   ]
  },
  {
   "cell_type": "code",
   "execution_count": 18,
   "metadata": {},
   "outputs": [
    {
     "name": "stderr",
     "output_type": "stream",
     "text": [
      "[Parallel(n_jobs=-1)]: Using backend LokyBackend with 8 concurrent workers.\n",
      "[Parallel(n_jobs=-1)]: Done   5 out of  13 | elapsed:    3.6s remaining:    5.9s\n",
      "[Parallel(n_jobs=-1)]: Done  13 out of  13 | elapsed:    5.0s finished\n",
      "\n",
      "[2020-10-26 13:05:31] Features: 1/8 -- score: 0.7674603174603174[Parallel(n_jobs=-1)]: Using backend LokyBackend with 8 concurrent workers.\n",
      "[Parallel(n_jobs=-1)]: Done   4 out of  12 | elapsed:    1.5s remaining:    3.2s\n",
      "[Parallel(n_jobs=-1)]: Done  12 out of  12 | elapsed:    2.7s finished\n",
      "\n",
      "[2020-10-26 13:05:34] Features: 2/8 -- score: 0.9718253968253968[Parallel(n_jobs=-1)]: Using backend LokyBackend with 8 concurrent workers.\n",
      "[Parallel(n_jobs=-1)]: Done   2 out of  11 | elapsed:    1.6s remaining:    7.5s\n",
      "[Parallel(n_jobs=-1)]: Done   8 out of  11 | elapsed:    1.8s remaining:    0.6s\n",
      "[Parallel(n_jobs=-1)]: Done  11 out of  11 | elapsed:    2.6s finished\n",
      "\n",
      "[2020-10-26 13:05:37] Features: 3/8 -- score: 0.9859126984126985[Parallel(n_jobs=-1)]: Using backend LokyBackend with 8 concurrent workers.\n",
      "[Parallel(n_jobs=-1)]: Done   7 out of  10 | elapsed:    1.7s remaining:    0.7s\n",
      "[Parallel(n_jobs=-1)]: Done  10 out of  10 | elapsed:    2.5s finished\n",
      "\n",
      "[2020-10-26 13:05:39] Features: 4/8 -- score: 0.9789682539682539[Parallel(n_jobs=-1)]: Using backend LokyBackend with 8 concurrent workers.\n",
      "[Parallel(n_jobs=-1)]: Done   4 out of   9 | elapsed:    1.7s remaining:    2.2s\n",
      "[Parallel(n_jobs=-1)]: Done   9 out of   9 | elapsed:    2.6s remaining:    0.0s\n",
      "[Parallel(n_jobs=-1)]: Done   9 out of   9 | elapsed:    2.6s finished\n",
      "\n",
      "[2020-10-26 13:05:42] Features: 5/8 -- score: 0.9720238095238095[Parallel(n_jobs=-1)]: Using backend LokyBackend with 8 concurrent workers.\n",
      "[Parallel(n_jobs=-1)]: Done   3 out of   8 | elapsed:    1.8s remaining:    3.1s\n",
      "[Parallel(n_jobs=-1)]: Done   8 out of   8 | elapsed:    2.1s remaining:    0.0s\n",
      "[Parallel(n_jobs=-1)]: Done   8 out of   8 | elapsed:    2.1s finished\n",
      "\n",
      "[2020-10-26 13:05:44] Features: 6/8 -- score: 0.9789682539682539[Parallel(n_jobs=-1)]: Using backend LokyBackend with 8 concurrent workers.\n",
      "[Parallel(n_jobs=-1)]: Done   4 out of   7 | elapsed:    1.7s remaining:    1.2s\n",
      "[Parallel(n_jobs=-1)]: Done   7 out of   7 | elapsed:    1.8s finished\n",
      "\n",
      "[2020-10-26 13:05:46] Features: 7/8 -- score: 0.9791666666666666[Parallel(n_jobs=-1)]: Using backend LokyBackend with 8 concurrent workers.\n",
      "[Parallel(n_jobs=-1)]: Done   3 out of   6 | elapsed:    1.2s remaining:    1.2s\n",
      "[Parallel(n_jobs=-1)]: Done   6 out of   6 | elapsed:    1.2s finished\n",
      "\n",
      "[2020-10-26 13:05:47] Features: 8/8 -- score: 0.9791666666666666"
     ]
    }
   ],
   "source": [
    "sfs = SFS(RandomForestClassifier(n_estimators=100, random_state=0, n_jobs = -1),\n",
    "         k_features = (1, 8),\n",
    "          forward= True,\n",
    "          floating = False,\n",
    "          verbose= 2,\n",
    "          scoring= 'accuracy',\n",
    "          cv = 4,\n",
    "          n_jobs= -1\n",
    "         ).fit(X_train, y_train)"
   ]
  },
  {
   "cell_type": "code",
   "execution_count": 19,
   "metadata": {},
   "outputs": [
    {
     "data": {
      "text/plain": [
       "0.9859126984126985"
      ]
     },
     "execution_count": 19,
     "metadata": {},
     "output_type": "execute_result"
    }
   ],
   "source": [
    "sfs.k_score_"
   ]
  },
  {
   "cell_type": "code",
   "execution_count": 20,
   "metadata": {},
   "outputs": [
    {
     "data": {
      "text/plain": [
       "('magnesium', 'flavanoids', 'color_intensity')"
      ]
     },
     "execution_count": 20,
     "metadata": {},
     "output_type": "execute_result"
    }
   ],
   "source": [
    "sfs.k_feature_names_"
   ]
  },
  {
   "cell_type": "markdown",
   "metadata": {},
   "source": [
    "# Step Backward Selection (SBS)"
   ]
  },
  {
   "cell_type": "code",
   "execution_count": 21,
   "metadata": {},
   "outputs": [
    {
     "name": "stderr",
     "output_type": "stream",
     "text": [
      "[Parallel(n_jobs=-1)]: Using backend LokyBackend with 8 concurrent workers.\n",
      "[Parallel(n_jobs=-1)]: Done   5 out of  13 | elapsed:    1.8s remaining:    2.9s\n",
      "[Parallel(n_jobs=-1)]: Done  13 out of  13 | elapsed:    3.6s finished\n",
      "\n",
      "[2020-10-26 13:07:30] Features: 12/1 -- score: 0.9861111111111112[Parallel(n_jobs=-1)]: Using backend LokyBackend with 8 concurrent workers.\n",
      "[Parallel(n_jobs=-1)]: Done   4 out of  12 | elapsed:    1.6s remaining:    3.2s\n",
      "[Parallel(n_jobs=-1)]: Done  12 out of  12 | elapsed:    2.7s finished\n",
      "\n",
      "[2020-10-26 13:07:33] Features: 11/1 -- score: 0.9861111111111112[Parallel(n_jobs=-1)]: Using backend LokyBackend with 8 concurrent workers.\n",
      "[Parallel(n_jobs=-1)]: Done   2 out of  11 | elapsed:    1.8s remaining:    8.5s\n",
      "[Parallel(n_jobs=-1)]: Done   8 out of  11 | elapsed:    2.1s remaining:    0.7s\n",
      "[Parallel(n_jobs=-1)]: Done  11 out of  11 | elapsed:    2.9s finished\n",
      "\n",
      "[2020-10-26 13:07:36] Features: 10/1 -- score: 0.9791666666666666[Parallel(n_jobs=-1)]: Using backend LokyBackend with 8 concurrent workers.\n",
      "[Parallel(n_jobs=-1)]: Done   7 out of  10 | elapsed:    2.0s remaining:    0.8s\n",
      "[Parallel(n_jobs=-1)]: Done  10 out of  10 | elapsed:    2.7s finished\n",
      "\n",
      "[2020-10-26 13:07:39] Features: 9/1 -- score: 0.9861111111111112[Parallel(n_jobs=-1)]: Using backend LokyBackend with 8 concurrent workers.\n",
      "[Parallel(n_jobs=-1)]: Done   4 out of   9 | elapsed:    1.7s remaining:    2.1s\n",
      "[Parallel(n_jobs=-1)]: Done   9 out of   9 | elapsed:    2.6s remaining:    0.0s\n",
      "[Parallel(n_jobs=-1)]: Done   9 out of   9 | elapsed:    2.6s finished\n",
      "\n",
      "[2020-10-26 13:07:42] Features: 8/1 -- score: 0.9859126984126985[Parallel(n_jobs=-1)]: Using backend LokyBackend with 8 concurrent workers.\n",
      "[Parallel(n_jobs=-1)]: Done   3 out of   8 | elapsed:    1.6s remaining:    2.8s\n",
      "[Parallel(n_jobs=-1)]: Done   8 out of   8 | elapsed:    1.9s remaining:    0.0s\n",
      "[Parallel(n_jobs=-1)]: Done   8 out of   8 | elapsed:    1.9s finished\n",
      "\n",
      "[2020-10-26 13:07:44] Features: 7/1 -- score: 0.978968253968254[Parallel(n_jobs=-1)]: Using backend LokyBackend with 8 concurrent workers.\n",
      "[Parallel(n_jobs=-1)]: Done   4 out of   7 | elapsed:    1.5s remaining:    1.1s\n",
      "[Parallel(n_jobs=-1)]: Done   7 out of   7 | elapsed:    1.6s finished\n",
      "\n",
      "[2020-10-26 13:07:45] Features: 6/1 -- score: 0.9859126984126985[Parallel(n_jobs=-1)]: Using backend LokyBackend with 8 concurrent workers.\n",
      "[Parallel(n_jobs=-1)]: Done   3 out of   6 | elapsed:    1.2s remaining:    1.2s\n",
      "[Parallel(n_jobs=-1)]: Done   6 out of   6 | elapsed:    1.3s finished\n",
      "\n",
      "[2020-10-26 13:07:47] Features: 5/1 -- score: 0.9789682539682539[Parallel(n_jobs=-1)]: Using backend LokyBackend with 8 concurrent workers.\n",
      "[Parallel(n_jobs=-1)]: Done   2 out of   5 | elapsed:    1.4s remaining:    2.1s\n",
      "[Parallel(n_jobs=-1)]: Done   5 out of   5 | elapsed:    1.4s remaining:    0.0s\n",
      "[Parallel(n_jobs=-1)]: Done   5 out of   5 | elapsed:    1.4s finished\n",
      "\n",
      "[2020-10-26 13:07:48] Features: 4/1 -- score: 0.9718253968253968[Parallel(n_jobs=-1)]: Using backend LokyBackend with 8 concurrent workers.\n",
      "[Parallel(n_jobs=-1)]: Done   4 out of   4 | elapsed:    1.0s remaining:    0.0s\n",
      "[Parallel(n_jobs=-1)]: Done   4 out of   4 | elapsed:    1.0s finished\n",
      "\n",
      "[2020-10-26 13:07:49] Features: 3/1 -- score: 0.9718253968253968[Parallel(n_jobs=-1)]: Using backend LokyBackend with 8 concurrent workers.\n",
      "[Parallel(n_jobs=-1)]: Done   3 out of   3 | elapsed:    1.0s finished\n",
      "\n",
      "[2020-10-26 13:07:50] Features: 2/1 -- score: 0.9718253968253968[Parallel(n_jobs=-1)]: Using backend LokyBackend with 8 concurrent workers.\n",
      "[Parallel(n_jobs=-1)]: Done   2 out of   2 | elapsed:    1.1s finished\n",
      "\n",
      "[2020-10-26 13:07:52] Features: 1/1 -- score: 0.7674603174603174"
     ]
    }
   ],
   "source": [
    "sfs = SFS(RandomForestClassifier(n_estimators=100, random_state=0, n_jobs = -1),\n",
    "         k_features = (1, 8),\n",
    "          forward= False,\n",
    "          floating = False,\n",
    "          verbose= 2,\n",
    "          scoring= 'accuracy',\n",
    "          cv = 4,\n",
    "          n_jobs= -1\n",
    "         ).fit(X_train, y_train)"
   ]
  },
  {
   "cell_type": "code",
   "execution_count": 22,
   "metadata": {},
   "outputs": [
    {
     "data": {
      "text/plain": [
       "0.9859126984126985"
      ]
     },
     "execution_count": 22,
     "metadata": {},
     "output_type": "execute_result"
    }
   ],
   "source": [
    "sbs = sfs\n",
    "sbs.k_score_"
   ]
  },
  {
   "cell_type": "code",
   "execution_count": 23,
   "metadata": {},
   "outputs": [
    {
     "data": {
      "text/plain": [
       "('alcohol',\n",
       " 'malic_acid',\n",
       " 'ash',\n",
       " 'alcalinity_of_ash',\n",
       " 'magnesium',\n",
       " 'flavanoids',\n",
       " 'nonflavanoid_phenols',\n",
       " 'color_intensity')"
      ]
     },
     "execution_count": 23,
     "metadata": {},
     "output_type": "execute_result"
    }
   ],
   "source": [
    "sbs.k_feature_names_"
   ]
  },
  {
   "cell_type": "markdown",
   "metadata": {},
   "source": [
    "# Exhaustive Feature Selection (EFS)"
   ]
  },
  {
   "cell_type": "code",
   "execution_count": 24,
   "metadata": {},
   "outputs": [],
   "source": [
    "from mlxtend.feature_selection import ExhaustiveFeatureSelector as EFS"
   ]
  },
  {
   "cell_type": "code",
   "execution_count": 25,
   "metadata": {},
   "outputs": [
    {
     "name": "stderr",
     "output_type": "stream",
     "text": [
      "Features: 2002/2002"
     ]
    }
   ],
   "source": [
    "efs = EFS(RandomForestClassifier(n_estimators=100, random_state=0, n_jobs=-1),\n",
    "         min_features= 4,\n",
    "          max_features= 5,\n",
    "          scoring='accuracy',\n",
    "          cv = None,\n",
    "          n_jobs=-1\n",
    "         ).fit(X_train, y_train)"
   ]
  },
  {
   "cell_type": "markdown",
   "metadata": {},
   "source": [
    "    C(13, 4) + C(13, 5) = 715 + 1287"
   ]
  },
  {
   "cell_type": "code",
   "execution_count": 26,
   "metadata": {},
   "outputs": [
    {
     "data": {
      "text/plain": [
       "2002"
      ]
     },
     "execution_count": 26,
     "metadata": {},
     "output_type": "execute_result"
    }
   ],
   "source": [
    "715 + 1287"
   ]
  },
  {
   "cell_type": "code",
   "execution_count": 27,
   "metadata": {},
   "outputs": [
    {
     "name": "stdout",
     "output_type": "stream",
     "text": [
      "Help on ExhaustiveFeatureSelector in module mlxtend.feature_selection.exhaustive_feature_selector object:\n",
      "\n",
      "class ExhaustiveFeatureSelector(sklearn.base.BaseEstimator, sklearn.base.MetaEstimatorMixin)\n",
      " |  ExhaustiveFeatureSelector(estimator, min_features=1, max_features=1, print_progress=True, scoring='accuracy', cv=5, n_jobs=1, pre_dispatch='2*n_jobs', clone_estimator=True)\n",
      " |  \n",
      " |  Exhaustive Feature Selection for Classification and Regression.\n",
      " |     (new in v0.4.3)\n",
      " |  \n",
      " |  Parameters\n",
      " |  ----------\n",
      " |  estimator : scikit-learn classifier or regressor\n",
      " |  min_features : int (default: 1)\n",
      " |      Minumum number of features to select\n",
      " |  max_features : int (default: 1)\n",
      " |      Maximum number of features to select\n",
      " |  print_progress : bool (default: True)\n",
      " |      Prints progress as the number of epochs\n",
      " |      to stderr.\n",
      " |  scoring : str, (default='accuracy')\n",
      " |      Scoring metric in {accuracy, f1, precision, recall, roc_auc}\n",
      " |      for classifiers,\n",
      " |      {'mean_absolute_error', 'mean_squared_error',\n",
      " |      'median_absolute_error', 'r2'} for regressors,\n",
      " |      or a callable object or function with\n",
      " |      signature ``scorer(estimator, X, y)``.\n",
      " |  cv : int (default: 5)\n",
      " |      Scikit-learn cross-validation generator or `int`.\n",
      " |      If estimator is a classifier (or y consists of integer class labels),\n",
      " |      stratified k-fold is performed, and regular k-fold cross-validation\n",
      " |      otherwise.\n",
      " |      No cross-validation if cv is None, False, or 0.\n",
      " |  n_jobs : int (default: 1)\n",
      " |      The number of CPUs to use for evaluating different feature subsets\n",
      " |      in parallel. -1 means 'all CPUs'.\n",
      " |  pre_dispatch : int, or string (default: '2*n_jobs')\n",
      " |      Controls the number of jobs that get dispatched\n",
      " |      during parallel execution if `n_jobs > 1` or `n_jobs=-1`.\n",
      " |      Reducing this number can be useful to avoid an explosion of\n",
      " |      memory consumption when more jobs get dispatched than CPUs can process.\n",
      " |      This parameter can be:\n",
      " |      None, in which case all the jobs are immediately created and spawned.\n",
      " |          Use this for lightweight and fast-running jobs,\n",
      " |          to avoid delays due to on-demand spawning of the jobs\n",
      " |      An int, giving the exact number of total jobs that are spawned\n",
      " |      A string, giving an expression as a function\n",
      " |          of n_jobs, as in `2*n_jobs`\n",
      " |  clone_estimator : bool (default: True)\n",
      " |      Clones estimator if True; works with the original estimator instance\n",
      " |      if False. Set to False if the estimator doesn't\n",
      " |      implement scikit-learn's set_params and get_params methods.\n",
      " |      In addition, it is required to set cv=0, and n_jobs=1.\n",
      " |  \n",
      " |  Attributes\n",
      " |  ----------\n",
      " |  best_idx_ : array-like, shape = [n_predictions]\n",
      " |      Feature Indices of the selected feature subsets.\n",
      " |  best_feature_names_ : array-like, shape = [n_predictions]\n",
      " |      Feature names of the selected feature subsets. If pandas\n",
      " |      DataFrames are used in the `fit` method, the feature\n",
      " |      names correspond to the column names. Otherwise, the\n",
      " |      feature names are string representation of the feature\n",
      " |      array indices. New in v 0.13.0.\n",
      " |  best_score_ : float\n",
      " |      Cross validation average score of the selected subset.\n",
      " |  subsets_ : dict\n",
      " |      A dictionary of selected feature subsets during the\n",
      " |      exhaustive selection, where the dictionary keys are\n",
      " |      the lengths k of these feature subsets. The dictionary\n",
      " |      values are dictionaries themselves with the following\n",
      " |      keys: 'feature_idx' (tuple of indices of the feature subset)\n",
      " |            'feature_names' (tuple of feature names of the feat. subset)\n",
      " |            'cv_scores' (list individual cross-validation scores)\n",
      " |            'avg_score' (average cross-validation score)\n",
      " |      Note that if pandas\n",
      " |      DataFrames are used in the `fit` method, the 'feature_names'\n",
      " |      correspond to the column names. Otherwise, the\n",
      " |      feature names are string representation of the feature\n",
      " |      array indices. The 'feature_names' is new in v 0.13.0.\n",
      " |  \n",
      " |  Examples\n",
      " |  -----------\n",
      " |  For usage examples, please see\n",
      " |  http://rasbt.github.io/mlxtend/user_guide/feature_selection/ExhaustiveFeatureSelector/\n",
      " |  \n",
      " |  Method resolution order:\n",
      " |      ExhaustiveFeatureSelector\n",
      " |      sklearn.base.BaseEstimator\n",
      " |      sklearn.base.MetaEstimatorMixin\n",
      " |      builtins.object\n",
      " |  \n",
      " |  Methods defined here:\n",
      " |  \n",
      " |  __init__(self, estimator, min_features=1, max_features=1, print_progress=True, scoring='accuracy', cv=5, n_jobs=1, pre_dispatch='2*n_jobs', clone_estimator=True)\n",
      " |      Initialize self.  See help(type(self)) for accurate signature.\n",
      " |  \n",
      " |  fit(self, X, y, custom_feature_names=None, groups=None, **fit_params)\n",
      " |      Perform feature selection and learn model from training data.\n",
      " |      \n",
      " |      Parameters\n",
      " |      ----------\n",
      " |      X : {array-like, sparse matrix}, shape = [n_samples, n_features]\n",
      " |          Training vectors, where n_samples is the number of samples and\n",
      " |          n_features is the number of features.\n",
      " |          New in v 0.13.0: pandas DataFrames are now also accepted as\n",
      " |          argument for X.\n",
      " |      y : array-like, shape = [n_samples]\n",
      " |          Target values.\n",
      " |      custom_feature_names : None or tuple (default: tuple)\n",
      " |          Custom feature names for `self.k_feature_names` and\n",
      " |          `self.subsets_[i]['feature_names']`.\n",
      " |          (new in v 0.13.0)\n",
      " |      groups : array-like, with shape (n_samples,), optional\n",
      " |          Group labels for the samples used while splitting the dataset into\n",
      " |          train/test set. Passed to the fit method of the cross-validator.\n",
      " |      fit_params : dict of string -> object, optional\n",
      " |          Parameters to pass to to the fit method of classifier.\n",
      " |      \n",
      " |      Returns\n",
      " |      -------\n",
      " |      self : object\n",
      " |  \n",
      " |  fit_transform(self, X, y, groups=None, **fit_params)\n",
      " |      Fit to training data and return the best selected features from X.\n",
      " |      \n",
      " |      Parameters\n",
      " |      ----------\n",
      " |      X : {array-like, sparse matrix}, shape = [n_samples, n_features]\n",
      " |          Training vectors, where n_samples is the number of samples and\n",
      " |          n_features is the number of features.\n",
      " |          New in v 0.13.0: pandas DataFrames are now also accepted as\n",
      " |          argument for X.\n",
      " |      y : array-like, shape = [n_samples]\n",
      " |          Target values.\n",
      " |      groups : array-like, with shape (n_samples,), optional\n",
      " |          Group labels for the samples used while splitting the dataset into\n",
      " |          train/test set. Passed to the fit method of the cross-validator.\n",
      " |      fit_params : dict of string -> object, optional\n",
      " |          Parameters to pass to to the fit method of classifier.\n",
      " |      \n",
      " |      Returns\n",
      " |      -------\n",
      " |      Feature subset of X, shape={n_samples, k_features}\n",
      " |  \n",
      " |  get_metric_dict(self, confidence_interval=0.95)\n",
      " |      Return metric dictionary\n",
      " |      \n",
      " |      Parameters\n",
      " |      ----------\n",
      " |      confidence_interval : float (default: 0.95)\n",
      " |          A positive float between 0.0 and 1.0 to compute the confidence\n",
      " |          interval bounds of the CV score averages.\n",
      " |      \n",
      " |      Returns\n",
      " |      ----------\n",
      " |      Dictionary with items where each dictionary value is a list\n",
      " |      with the number of iterations (number of feature subsets) as\n",
      " |      its length. The dictionary keys corresponding to these lists\n",
      " |      are as follows:\n",
      " |          'feature_idx': tuple of the indices of the feature subset\n",
      " |          'cv_scores': list with individual CV scores\n",
      " |          'avg_score': of CV average scores\n",
      " |          'std_dev': standard deviation of the CV score average\n",
      " |          'std_err': standard error of the CV score average\n",
      " |          'ci_bound': confidence interval bound of the CV score average\n",
      " |  \n",
      " |  transform(self, X)\n",
      " |      Return the best selected features from X.\n",
      " |      \n",
      " |      Parameters\n",
      " |      ----------\n",
      " |      X : {array-like, sparse matrix}, shape = [n_samples, n_features]\n",
      " |          Training vectors, where n_samples is the number of samples and\n",
      " |          n_features is the number of features.\n",
      " |          New in v 0.13.0: pandas DataFrames are now also accepted as\n",
      " |          argument for X.\n",
      " |      \n",
      " |      Returns\n",
      " |      -------\n",
      " |      Feature subset of X, shape={n_samples, k_features}\n",
      " |  \n",
      " |  ----------------------------------------------------------------------\n",
      " |  Methods inherited from sklearn.base.BaseEstimator:\n",
      " |  \n",
      " |  __getstate__(self)\n",
      " |  \n",
      " |  __repr__(self, N_CHAR_MAX=700)\n",
      " |      Return repr(self).\n",
      " |  \n",
      " |  __setstate__(self, state)\n",
      " |  \n",
      " |  get_params(self, deep=True)\n",
      " |      Get parameters for this estimator.\n",
      " |      \n",
      " |      Parameters\n",
      " |      ----------\n",
      " |      deep : bool, default=True\n",
      " |          If True, will return the parameters for this estimator and\n",
      " |          contained subobjects that are estimators.\n",
      " |      \n",
      " |      Returns\n",
      " |      -------\n",
      " |      params : mapping of string to any\n",
      " |          Parameter names mapped to their values.\n",
      " |  \n",
      " |  set_params(self, **params)\n",
      " |      Set the parameters of this estimator.\n",
      " |      \n",
      " |      The method works on simple estimators as well as on nested objects\n",
      " |      (such as pipelines). The latter have parameters of the form\n",
      " |      ``<component>__<parameter>`` so that it's possible to update each\n",
      " |      component of a nested object.\n",
      " |      \n",
      " |      Parameters\n",
      " |      ----------\n",
      " |      **params : dict\n",
      " |          Estimator parameters.\n",
      " |      \n",
      " |      Returns\n",
      " |      -------\n",
      " |      self : object\n",
      " |          Estimator instance.\n",
      " |  \n",
      " |  ----------------------------------------------------------------------\n",
      " |  Data descriptors inherited from sklearn.base.BaseEstimator:\n",
      " |  \n",
      " |  __dict__\n",
      " |      dictionary for instance variables (if defined)\n",
      " |  \n",
      " |  __weakref__\n",
      " |      list of weak references to the object (if defined)\n",
      "\n"
     ]
    }
   ],
   "source": [
    "help(efs)"
   ]
  },
  {
   "cell_type": "code",
   "execution_count": 28,
   "metadata": {},
   "outputs": [
    {
     "data": {
      "text/plain": [
       "1.0"
      ]
     },
     "execution_count": 28,
     "metadata": {},
     "output_type": "execute_result"
    }
   ],
   "source": [
    "efs.best_score_"
   ]
  },
  {
   "cell_type": "code",
   "execution_count": 29,
   "metadata": {},
   "outputs": [
    {
     "data": {
      "text/plain": [
       "('alcohol', 'malic_acid', 'ash', 'alcalinity_of_ash')"
      ]
     },
     "execution_count": 29,
     "metadata": {},
     "output_type": "execute_result"
    }
   ],
   "source": [
    "efs.best_feature_names_"
   ]
  },
  {
   "cell_type": "code",
   "execution_count": 30,
   "metadata": {},
   "outputs": [
    {
     "data": {
      "text/plain": [
       "(0, 1, 2, 3)"
      ]
     },
     "execution_count": 30,
     "metadata": {},
     "output_type": "execute_result"
    }
   ],
   "source": [
    "efs.best_idx_"
   ]
  },
  {
   "cell_type": "code",
   "execution_count": 31,
   "metadata": {},
   "outputs": [],
   "source": [
    "from mlxtend.plotting import plot_sequential_feature_selection as plot_sfs"
   ]
  },
  {
   "cell_type": "code",
   "execution_count": 32,
   "metadata": {},
   "outputs": [
    {
     "name": "stderr",
     "output_type": "stream",
     "text": [
      "C:\\Users\\HP\\anaconda3\\lib\\site-packages\\numpy\\core\\_methods.py:216: RuntimeWarning: Degrees of freedom <= 0 for slice\n",
      "  ret = _var(a, axis=axis, dtype=dtype, out=out, ddof=ddof,\n",
      "C:\\Users\\HP\\anaconda3\\lib\\site-packages\\numpy\\core\\_methods.py:209: RuntimeWarning: invalid value encountered in double_scalars\n",
      "  ret = ret.dtype.type(ret / rcount)\n"
     ]
    },
    {
     "data": {
      "image/png": "[encoded data removed]",
      "text/plain": [
       "<Figure size 432x288 with 1 Axes>"
      ]
     },
     "metadata": {
      "needs_background": "light"
     },
     "output_type": "display_data"
    }
   ],
   "source": [
    "plot_sfs(efs.get_metric_dict(), kind='std_dev')\n",
    "plt.title('Performance of the EFS algorithm with changing number of features')\n",
    "plt.show()"
   ]
  },
  {
   "cell_type": "code",
   "execution_count": null,
   "metadata": {},
   "outputs": [],
   "source": []
  }
 ],
 "metadata": {
  "kernelspec": {
   "display_name": "Python 3",
   "language": "python",
   "name": "python3"
  },
  "language_info": {
   "codemirror_mode": {
    "name": "ipython",
    "version": 3
   },
   "file_extension": ".py",
   "mimetype": "text/x-python",
   "name": "python",
   "nbconvert_exporter": "python",
   "pygments_lexer": "ipython3",
   "version": "3.8.3"
  }
 },
 "nbformat": 4,
 "nbformat_minor": 4
}
