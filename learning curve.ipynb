{
 "cells": [
  {
   "cell_type": "code",
   "execution_count": 5,
   "metadata": {},
   "outputs": [],
   "source": [
    "import numpy as np \n",
    "import pandas as pd\n",
    "import matplotlib.pyplot as plt\n",
    "import seaborn as  sns\n",
    "from sklearn.ensemble import RandomForestClassifier\n",
    "from sklearn.model_selection import learning_curve\n",
    "from sklearn.datasets import load_breast_cancer"
   ]
  },
  {
   "cell_type": "code",
   "execution_count": 6,
   "metadata": {},
   "outputs": [],
   "source": [
    "cancer=load_breast_cancer()"
   ]
  },
  {
   "cell_type": "code",
   "execution_count": 7,
   "metadata": {},
   "outputs": [
    {
     "name": "stdout",
     "output_type": "stream",
     "text": [
      ".. _breast_cancer_dataset:\n",
      "\n",
      "Breast cancer wisconsin (diagnostic) dataset\n",
      "--------------------------------------------\n",
      "\n",
      "**Data Set Characteristics:**\n",
      "\n",
      "    :Number of Instances: 569\n",
      "\n",
      "    :Number of Attributes: 30 numeric, predictive attributes and the class\n",
      "\n",
      "    :Attribute Information:\n",
      "        - radius (mean of distances from center to points on the perimeter)\n",
      "        - texture (standard deviation of gray-scale values)\n",
      "        - perimeter\n",
      "        - area\n",
      "        - smoothness (local variation in radius lengths)\n",
      "        - compactness (perimeter^2 / area - 1.0)\n",
      "        - concavity (severity of concave portions of the contour)\n",
      "        - concave points (number of concave portions of the contour)\n",
      "        - symmetry\n",
      "        - fractal dimension (\"coastline approximation\" - 1)\n",
      "\n",
      "        The mean, standard error, and \"worst\" or largest (mean of the three\n",
      "        worst/largest values) of these features were computed for each image,\n",
      "        resulting in 30 features.  For instance, field 0 is Mean Radius, field\n",
      "        10 is Radius SE, field 20 is Worst Radius.\n",
      "\n",
      "        - class:\n",
      "                - WDBC-Malignant\n",
      "                - WDBC-Benign\n",
      "\n",
      "    :Summary Statistics:\n",
      "\n",
      "    ===================================== ====== ======\n",
      "                                           Min    Max\n",
      "    ===================================== ====== ======\n",
      "    radius (mean):                        6.981  28.11\n",
      "    texture (mean):                       9.71   39.28\n",
      "    perimeter (mean):                     43.79  188.5\n",
      "    area (mean):                          143.5  2501.0\n",
      "    smoothness (mean):                    0.053  0.163\n",
      "    compactness (mean):                   0.019  0.345\n",
      "    concavity (mean):                     0.0    0.427\n",
      "    concave points (mean):                0.0    0.201\n",
      "    symmetry (mean):                      0.106  0.304\n",
      "    fractal dimension (mean):             0.05   0.097\n",
      "    radius (standard error):              0.112  2.873\n",
      "    texture (standard error):             0.36   4.885\n",
      "    perimeter (standard error):           0.757  21.98\n",
      "    area (standard error):                6.802  542.2\n",
      "    smoothness (standard error):          0.002  0.031\n",
      "    compactness (standard error):         0.002  0.135\n",
      "    concavity (standard error):           0.0    0.396\n",
      "    concave points (standard error):      0.0    0.053\n",
      "    symmetry (standard error):            0.008  0.079\n",
      "    fractal dimension (standard error):   0.001  0.03\n",
      "    radius (worst):                       7.93   36.04\n",
      "    texture (worst):                      12.02  49.54\n",
      "    perimeter (worst):                    50.41  251.2\n",
      "    area (worst):                         185.2  4254.0\n",
      "    smoothness (worst):                   0.071  0.223\n",
      "    compactness (worst):                  0.027  1.058\n",
      "    concavity (worst):                    0.0    1.252\n",
      "    concave points (worst):               0.0    0.291\n",
      "    symmetry (worst):                     0.156  0.664\n",
      "    fractal dimension (worst):            0.055  0.208\n",
      "    ===================================== ====== ======\n",
      "\n",
      "    :Missing Attribute Values: None\n",
      "\n",
      "    :Class Distribution: 212 - Malignant, 357 - Benign\n",
      "\n",
      "    :Creator:  Dr. William H. Wolberg, W. Nick Street, Olvi L. Mangasarian\n",
      "\n",
      "    :Donor: Nick Street\n",
      "\n",
      "    :Date: November, 1995\n",
      "\n",
      "This is a copy of UCI ML Breast Cancer Wisconsin (Diagnostic) datasets.\n",
      "https://goo.gl/U2Uwz2\n",
      "\n",
      "Features are computed from a digitized image of a fine needle\n",
      "aspirate (FNA) of a breast mass.  They describe\n",
      "characteristics of the cell nuclei present in the image.\n",
      "\n",
      "Separating plane described above was obtained using\n",
      "Multisurface Method-Tree (MSM-T) [K. P. Bennett, \"Decision Tree\n",
      "Construction Via Linear Programming.\" Proceedings of the 4th\n",
      "Midwest Artificial Intelligence and Cognitive Science Society,\n",
      "pp. 97-101, 1992], a classification method which uses linear\n",
      "programming to construct a decision tree.  Relevant features\n",
      "were selected using an exhaustive search in the space of 1-4\n",
      "features and 1-3 separating planes.\n",
      "\n",
      "The actual linear program used to obtain the separating plane\n",
      "in the 3-dimensional space is that described in:\n",
      "[K. P. Bennett and O. L. Mangasarian: \"Robust Linear\n",
      "Programming Discrimination of Two Linearly Inseparable Sets\",\n",
      "Optimization Methods and Software 1, 1992, 23-34].\n",
      "\n",
      "This database is also available through the UW CS ftp server:\n",
      "\n",
      "ftp ftp.cs.wisc.edu\n",
      "cd math-prog/cpo-dataset/machine-learn/WDBC/\n",
      "\n",
      ".. topic:: References\n",
      "\n",
      "   - W.N. Street, W.H. Wolberg and O.L. Mangasarian. Nuclear feature extraction \n",
      "     for breast tumor diagnosis. IS&T/SPIE 1993 International Symposium on \n",
      "     Electronic Imaging: Science and Technology, volume 1905, pages 861-870,\n",
      "     San Jose, CA, 1993.\n",
      "   - O.L. Mangasarian, W.N. Street and W.H. Wolberg. Breast cancer diagnosis and \n",
      "     prognosis via linear programming. Operations Research, 43(4), pages 570-577, \n",
      "     July-August 1995.\n",
      "   - W.H. Wolberg, W.N. Street, and O.L. Mangasarian. Machine learning techniques\n",
      "     to diagnose breast cancer from fine-needle aspirates. Cancer Letters 77 (1994) \n",
      "     163-171.\n"
     ]
    }
   ],
   "source": [
    "print(cancer.DESCR)"
   ]
  },
  {
   "cell_type": "code",
   "execution_count": 8,
   "metadata": {},
   "outputs": [],
   "source": [
    "X=cancer.data\n",
    "y=cancer.target"
   ]
  },
  {
   "cell_type": "code",
   "execution_count": 9,
   "metadata": {},
   "outputs": [
    {
     "data": {
      "text/plain": [
       "((569, 30), (569,))"
      ]
     },
     "execution_count": 9,
     "metadata": {},
     "output_type": "execute_result"
    }
   ],
   "source": [
    "X.shape,y.shape"
   ]
  },
  {
   "cell_type": "code",
   "execution_count": 22,
   "metadata": {},
   "outputs": [
    {
     "name": "stdout",
     "output_type": "stream",
     "text": [
      "[learning_curve] Training set sizes: [  5  15  25  36  46  56  67  77  87  98 108 118 129 139 149 160 170 180\n",
      " 191 201 212 222 232 243 253 263 274 284 294 305 315 325 336 346 356 367\n",
      " 377 387 398 408 418 429 439 449 460 470 480 491 501 512]\n"
     ]
    },
    {
     "name": "stderr",
     "output_type": "stream",
     "text": [
      "[Parallel(n_jobs=-1)]: Using backend LokyBackend with 8 concurrent workers.\n",
      "[Parallel(n_jobs=-1)]: Done 500 out of 500 | elapsed:   29.8s finished\n"
     ]
    }
   ],
   "source": [
    "train_sizes,train_scores,test_scores=learning_curve(RandomForestClassifier(),X,y,cv=10,scoring='accuracy',n_jobs=-1,train_sizes=np.linspace(0.01,1,50),verbose=1)"
   ]
  },
  {
   "cell_type": "code",
   "execution_count": 23,
   "metadata": {},
   "outputs": [
    {
     "name": "stdout",
     "output_type": "stream",
     "text": [
      "[0.01       0.03020408 0.05040816 0.07061224 0.09081633 0.11102041\n",
      " 0.13122449 0.15142857 0.17163265 0.19183673 0.21204082 0.2322449\n",
      " 0.25244898 0.27265306 0.29285714 0.31306122 0.33326531 0.35346939\n",
      " 0.37367347 0.39387755 0.41408163 0.43428571 0.4544898  0.47469388\n",
      " 0.49489796 0.51510204 0.53530612 0.5555102  0.57571429 0.59591837\n",
      " 0.61612245 0.63632653 0.65653061 0.67673469 0.69693878 0.71714286\n",
      " 0.73734694 0.75755102 0.7777551  0.79795918 0.81816327 0.83836735\n",
      " 0.85857143 0.87877551 0.89897959 0.91918367 0.93938776 0.95959184\n",
      " 0.97979592 1.        ]\n"
     ]
    }
   ],
   "source": [
    "print(np.linspace(0.01,1,50))"
   ]
  },
  {
   "cell_type": "code",
   "execution_count": 24,
   "metadata": {},
   "outputs": [
    {
     "data": {
      "text/plain": [
       "array([  5,  15,  25,  36,  46,  56,  67,  77,  87,  98, 108, 118, 129,\n",
       "       139, 149, 160, 170, 180, 191, 201, 212, 222, 232, 243, 253, 263,\n",
       "       274, 284, 294, 305, 315, 325, 336, 346, 356, 367, 377, 387, 398,\n",
       "       408, 418, 429, 439, 449, 460, 470, 480, 491, 501, 512])"
      ]
     },
     "execution_count": 24,
     "metadata": {},
     "output_type": "execute_result"
    }
   ],
   "source": [
    "train_sizes"
   ]
  },
  {
   "cell_type": "code",
   "execution_count": 25,
   "metadata": {},
   "outputs": [
    {
     "data": {
      "text/plain": [
       "array([[1.  , 1.  , 1.  , 1.  , 1.  , 1.  , 1.  , 1.  , 1.  , 1.  ],\n",
       "       [1.  , 1.  , 1.  , 1.  , 1.  , 1.  , 1.  , 1.  , 1.  , 1.  ],\n",
       "       [1.  , 1.  , 1.  , 1.  , 1.  , 1.  , 1.  , 0.96, 1.  , 1.  ],\n",
       "       [1.  , 1.  , 1.  , 1.  , 1.  , 1.  , 1.  , 1.  , 1.  , 1.  ],\n",
       "       [1.  , 1.  , 1.  , 1.  , 1.  , 1.  , 1.  , 1.  , 1.  , 1.  ],\n",
       "       [1.  , 1.  , 1.  , 1.  , 1.  , 1.  , 1.  , 1.  , 1.  , 1.  ],\n",
       "       [1.  , 1.  , 1.  , 1.  , 1.  , 1.  , 1.  , 1.  , 1.  , 1.  ],\n",
       "       [1.  , 1.  , 1.  , 1.  , 1.  , 1.  , 1.  , 1.  , 1.  , 1.  ],\n",
       "       [1.  , 1.  , 1.  , 1.  , 1.  , 1.  , 1.  , 1.  , 1.  , 1.  ],\n",
       "       [1.  , 1.  , 1.  , 1.  , 1.  , 1.  , 1.  , 1.  , 1.  , 1.  ],\n",
       "       [1.  , 1.  , 1.  , 1.  , 1.  , 1.  , 1.  , 1.  , 1.  , 1.  ],\n",
       "       [1.  , 1.  , 1.  , 1.  , 1.  , 1.  , 1.  , 1.  , 1.  , 1.  ],\n",
       "       [1.  , 1.  , 1.  , 1.  , 1.  , 1.  , 1.  , 1.  , 1.  , 1.  ],\n",
       "       [1.  , 1.  , 1.  , 1.  , 1.  , 1.  , 1.  , 1.  , 1.  , 1.  ],\n",
       "       [1.  , 1.  , 1.  , 1.  , 1.  , 1.  , 1.  , 1.  , 1.  , 1.  ],\n",
       "       [1.  , 1.  , 1.  , 1.  , 1.  , 1.  , 1.  , 1.  , 1.  , 1.  ],\n",
       "       [1.  , 1.  , 1.  , 1.  , 1.  , 1.  , 1.  , 1.  , 1.  , 1.  ],\n",
       "       [1.  , 1.  , 1.  , 1.  , 1.  , 1.  , 1.  , 1.  , 1.  , 1.  ],\n",
       "       [1.  , 1.  , 1.  , 1.  , 1.  , 1.  , 1.  , 1.  , 1.  , 1.  ],\n",
       "       [1.  , 1.  , 1.  , 1.  , 1.  , 1.  , 1.  , 1.  , 1.  , 1.  ],\n",
       "       [1.  , 1.  , 1.  , 1.  , 1.  , 1.  , 1.  , 1.  , 1.  , 1.  ],\n",
       "       [1.  , 1.  , 1.  , 1.  , 1.  , 1.  , 1.  , 1.  , 1.  , 1.  ],\n",
       "       [1.  , 1.  , 1.  , 1.  , 1.  , 1.  , 1.  , 1.  , 1.  , 1.  ],\n",
       "       [1.  , 1.  , 1.  , 1.  , 1.  , 1.  , 1.  , 1.  , 1.  , 1.  ],\n",
       "       [1.  , 1.  , 1.  , 1.  , 1.  , 1.  , 1.  , 1.  , 1.  , 1.  ],\n",
       "       [1.  , 1.  , 1.  , 1.  , 1.  , 1.  , 1.  , 1.  , 1.  , 1.  ],\n",
       "       [1.  , 1.  , 1.  , 1.  , 1.  , 1.  , 1.  , 1.  , 1.  , 1.  ],\n",
       "       [1.  , 1.  , 1.  , 1.  , 1.  , 1.  , 1.  , 1.  , 1.  , 1.  ],\n",
       "       [1.  , 1.  , 1.  , 1.  , 1.  , 1.  , 1.  , 1.  , 1.  , 1.  ],\n",
       "       [1.  , 1.  , 1.  , 1.  , 1.  , 1.  , 1.  , 1.  , 1.  , 1.  ],\n",
       "       [1.  , 1.  , 1.  , 1.  , 1.  , 1.  , 1.  , 1.  , 1.  , 1.  ],\n",
       "       [1.  , 1.  , 1.  , 1.  , 1.  , 1.  , 1.  , 1.  , 1.  , 1.  ],\n",
       "       [1.  , 1.  , 1.  , 1.  , 1.  , 1.  , 1.  , 1.  , 1.  , 1.  ],\n",
       "       [1.  , 1.  , 1.  , 1.  , 1.  , 1.  , 1.  , 1.  , 1.  , 1.  ],\n",
       "       [1.  , 1.  , 1.  , 1.  , 1.  , 1.  , 1.  , 1.  , 1.  , 1.  ],\n",
       "       [1.  , 1.  , 1.  , 1.  , 1.  , 1.  , 1.  , 1.  , 1.  , 1.  ],\n",
       "       [1.  , 1.  , 1.  , 1.  , 1.  , 1.  , 1.  , 1.  , 1.  , 1.  ],\n",
       "       [1.  , 1.  , 1.  , 1.  , 1.  , 1.  , 1.  , 1.  , 1.  , 1.  ],\n",
       "       [1.  , 1.  , 1.  , 1.  , 1.  , 1.  , 1.  , 1.  , 1.  , 1.  ],\n",
       "       [1.  , 1.  , 1.  , 1.  , 1.  , 1.  , 1.  , 1.  , 1.  , 1.  ],\n",
       "       [1.  , 1.  , 1.  , 1.  , 1.  , 1.  , 1.  , 1.  , 1.  , 1.  ],\n",
       "       [1.  , 1.  , 1.  , 1.  , 1.  , 1.  , 1.  , 1.  , 1.  , 1.  ],\n",
       "       [1.  , 1.  , 1.  , 1.  , 1.  , 1.  , 1.  , 1.  , 1.  , 1.  ],\n",
       "       [1.  , 1.  , 1.  , 1.  , 1.  , 1.  , 1.  , 1.  , 1.  , 1.  ],\n",
       "       [1.  , 1.  , 1.  , 1.  , 1.  , 1.  , 1.  , 1.  , 1.  , 1.  ],\n",
       "       [1.  , 1.  , 1.  , 1.  , 1.  , 1.  , 1.  , 1.  , 1.  , 1.  ],\n",
       "       [1.  , 1.  , 1.  , 1.  , 1.  , 1.  , 1.  , 1.  , 1.  , 1.  ],\n",
       "       [1.  , 1.  , 1.  , 1.  , 1.  , 1.  , 1.  , 1.  , 1.  , 1.  ],\n",
       "       [1.  , 1.  , 1.  , 1.  , 1.  , 1.  , 1.  , 1.  , 1.  , 1.  ],\n",
       "       [1.  , 1.  , 1.  , 1.  , 1.  , 1.  , 1.  , 1.  , 1.  , 1.  ]])"
      ]
     },
     "execution_count": 25,
     "metadata": {},
     "output_type": "execute_result"
    }
   ],
   "source": [
    "train_scores"
   ]
  },
  {
   "cell_type": "code",
   "execution_count": 26,
   "metadata": {},
   "outputs": [
    {
     "data": {
      "text/plain": [
       "array([[0.38596491, 0.38596491, 0.36842105, 0.36842105, 0.36842105,\n",
       "        0.36842105, 0.36842105, 0.36842105, 0.36842105, 0.375     ],\n",
       "       [0.38596491, 0.38596491, 0.36842105, 0.36842105, 0.36842105,\n",
       "        0.36842105, 0.36842105, 0.36842105, 0.36842105, 0.375     ],\n",
       "       [0.38596491, 0.75438596, 0.80701754, 0.75438596, 0.87719298,\n",
       "        0.87719298, 0.84210526, 0.73684211, 0.73684211, 0.83928571],\n",
       "       [0.38596491, 0.8245614 , 0.78947368, 0.8245614 , 0.87719298,\n",
       "        0.87719298, 0.85964912, 0.73684211, 0.71929825, 0.80357143],\n",
       "       [0.45614035, 0.84210526, 0.75438596, 0.75438596, 0.85964912,\n",
       "        0.84210526, 0.70175439, 0.50877193, 0.63157895, 0.58928571],\n",
       "       [0.85964912, 0.84210526, 0.84210526, 0.8245614 , 0.87719298,\n",
       "        0.85964912, 0.87719298, 0.80701754, 0.71929825, 0.83928571],\n",
       "       [0.89473684, 0.84210526, 0.89473684, 0.87719298, 0.9122807 ,\n",
       "        0.84210526, 0.89473684, 0.8245614 , 0.71929825, 0.875     ],\n",
       "       [0.92982456, 0.85964912, 0.94736842, 0.87719298, 0.9122807 ,\n",
       "        0.9122807 , 0.89473684, 0.8245614 , 0.77192982, 0.91071429],\n",
       "       [0.9122807 , 0.85964912, 0.94736842, 0.9122807 , 0.92982456,\n",
       "        0.9122807 , 0.89473684, 0.85964912, 0.80701754, 0.89285714],\n",
       "       [0.92982456, 0.85964912, 0.96491228, 0.9122807 , 0.96491228,\n",
       "        0.92982456, 0.89473684, 0.9122807 , 0.85964912, 0.92857143],\n",
       "       [0.94736842, 0.85964912, 0.94736842, 0.9122807 , 0.96491228,\n",
       "        0.92982456, 0.89473684, 0.92982456, 0.85964912, 0.94642857],\n",
       "       [0.94736842, 0.87719298, 0.96491228, 0.92982456, 0.96491228,\n",
       "        0.92982456, 0.89473684, 0.94736842, 0.89473684, 0.92857143],\n",
       "       [0.94736842, 0.85964912, 0.94736842, 0.94736842, 0.98245614,\n",
       "        0.92982456, 0.92982456, 0.92982456, 0.87719298, 0.96428571],\n",
       "       [0.92982456, 0.85964912, 0.92982456, 0.96491228, 0.98245614,\n",
       "        0.92982456, 0.92982456, 0.96491228, 0.87719298, 0.94642857],\n",
       "       [0.96491228, 0.85964912, 0.94736842, 0.96491228, 1.        ,\n",
       "        0.92982456, 0.92982456, 0.94736842, 0.92982456, 0.94642857],\n",
       "       [0.94736842, 0.85964912, 0.96491228, 0.96491228, 1.        ,\n",
       "        0.94736842, 0.9122807 , 0.96491228, 0.94736842, 0.96428571],\n",
       "       [0.96491228, 0.85964912, 0.94736842, 0.96491228, 1.        ,\n",
       "        0.92982456, 0.94736842, 0.94736842, 0.92982456, 0.98214286],\n",
       "       [0.96491228, 0.85964912, 0.98245614, 0.94736842, 1.        ,\n",
       "        0.94736842, 0.92982456, 0.94736842, 0.92982456, 0.94642857],\n",
       "       [0.96491228, 0.87719298, 0.96491228, 0.94736842, 1.        ,\n",
       "        0.96491228, 0.92982456, 0.94736842, 0.94736842, 0.94642857],\n",
       "       [0.96491228, 0.84210526, 0.98245614, 0.94736842, 1.        ,\n",
       "        0.94736842, 0.9122807 , 0.96491228, 0.9122807 , 0.96428571],\n",
       "       [0.96491228, 0.85964912, 0.96491228, 0.94736842, 1.        ,\n",
       "        0.96491228, 0.9122807 , 0.98245614, 0.9122807 , 0.96428571],\n",
       "       [0.96491228, 0.87719298, 0.96491228, 0.94736842, 1.        ,\n",
       "        0.94736842, 0.9122807 , 0.96491228, 0.92982456, 0.98214286],\n",
       "       [0.96491228, 0.87719298, 0.98245614, 0.92982456, 1.        ,\n",
       "        0.94736842, 0.92982456, 0.98245614, 0.94736842, 0.98214286],\n",
       "       [0.96491228, 0.87719298, 0.94736842, 0.94736842, 0.98245614,\n",
       "        0.94736842, 0.9122807 , 0.96491228, 0.9122807 , 0.98214286],\n",
       "       [0.96491228, 0.87719298, 0.94736842, 0.94736842, 1.        ,\n",
       "        0.94736842, 0.9122807 , 0.98245614, 0.9122807 , 0.98214286],\n",
       "       [0.96491228, 0.85964912, 0.96491228, 0.96491228, 1.        ,\n",
       "        0.94736842, 0.92982456, 0.96491228, 0.92982456, 0.98214286],\n",
       "       [0.96491228, 0.87719298, 0.94736842, 0.92982456, 1.        ,\n",
       "        0.94736842, 0.9122807 , 1.        , 0.92982456, 0.98214286],\n",
       "       [0.96491228, 0.85964912, 0.92982456, 0.96491228, 1.        ,\n",
       "        0.94736842, 0.9122807 , 1.        , 0.9122807 , 0.98214286],\n",
       "       [0.96491228, 0.87719298, 0.96491228, 0.96491228, 1.        ,\n",
       "        0.92982456, 0.9122807 , 0.98245614, 0.9122807 , 0.98214286],\n",
       "       [0.96491228, 0.87719298, 0.92982456, 0.96491228, 1.        ,\n",
       "        0.92982456, 0.9122807 , 0.98245614, 0.9122807 , 0.98214286],\n",
       "       [0.96491228, 0.87719298, 0.92982456, 0.96491228, 1.        ,\n",
       "        0.94736842, 0.9122807 , 0.98245614, 0.92982456, 0.98214286],\n",
       "       [0.96491228, 0.89473684, 0.96491228, 0.96491228, 1.        ,\n",
       "        0.94736842, 0.92982456, 0.98245614, 0.9122807 , 0.98214286],\n",
       "       [0.96491228, 0.85964912, 0.94736842, 0.98245614, 1.        ,\n",
       "        0.94736842, 0.92982456, 0.96491228, 0.9122807 , 0.96428571],\n",
       "       [0.96491228, 0.87719298, 0.94736842, 0.94736842, 1.        ,\n",
       "        0.94736842, 0.92982456, 0.98245614, 0.92982456, 0.98214286],\n",
       "       [0.96491228, 0.92982456, 0.96491228, 0.96491228, 1.        ,\n",
       "        0.96491228, 0.92982456, 0.98245614, 0.94736842, 0.98214286],\n",
       "       [0.98245614, 0.89473684, 0.94736842, 0.96491228, 1.        ,\n",
       "        0.96491228, 0.94736842, 0.96491228, 0.94736842, 0.98214286],\n",
       "       [0.98245614, 0.87719298, 0.94736842, 0.96491228, 1.        ,\n",
       "        0.96491228, 0.94736842, 0.98245614, 0.96491228, 0.98214286],\n",
       "       [0.98245614, 0.87719298, 0.94736842, 0.98245614, 0.98245614,\n",
       "        0.96491228, 0.94736842, 0.98245614, 0.94736842, 0.98214286],\n",
       "       [0.96491228, 0.87719298, 0.94736842, 0.96491228, 1.        ,\n",
       "        0.94736842, 0.96491228, 0.98245614, 0.94736842, 0.98214286],\n",
       "       [0.98245614, 0.89473684, 0.94736842, 0.98245614, 1.        ,\n",
       "        0.98245614, 0.92982456, 0.98245614, 0.94736842, 0.98214286],\n",
       "       [0.98245614, 0.87719298, 0.94736842, 0.96491228, 1.        ,\n",
       "        0.96491228, 0.96491228, 0.98245614, 0.96491228, 1.        ],\n",
       "       [0.98245614, 0.87719298, 0.92982456, 0.98245614, 0.98245614,\n",
       "        0.98245614, 0.94736842, 0.98245614, 0.94736842, 1.        ],\n",
       "       [0.98245614, 0.87719298, 0.94736842, 0.94736842, 1.        ,\n",
       "        0.98245614, 0.94736842, 0.98245614, 0.96491228, 0.98214286],\n",
       "       [0.98245614, 0.87719298, 0.94736842, 0.96491228, 1.        ,\n",
       "        0.98245614, 0.98245614, 0.98245614, 0.96491228, 1.        ],\n",
       "       [0.98245614, 0.85964912, 0.92982456, 0.98245614, 1.        ,\n",
       "        0.98245614, 0.98245614, 0.98245614, 0.98245614, 0.98214286],\n",
       "       [0.98245614, 0.9122807 , 0.92982456, 0.98245614, 1.        ,\n",
       "        0.98245614, 0.94736842, 0.98245614, 0.94736842, 1.        ],\n",
       "       [0.98245614, 0.9122807 , 0.92982456, 0.96491228, 0.98245614,\n",
       "        0.98245614, 0.94736842, 0.98245614, 0.94736842, 0.98214286],\n",
       "       [0.98245614, 0.9122807 , 0.94736842, 0.94736842, 0.98245614,\n",
       "        0.98245614, 0.96491228, 0.98245614, 0.94736842, 0.98214286],\n",
       "       [0.98245614, 0.89473684, 0.94736842, 0.92982456, 0.98245614,\n",
       "        0.98245614, 0.94736842, 0.98245614, 0.96491228, 0.98214286],\n",
       "       [0.98245614, 0.87719298, 0.94736842, 0.94736842, 1.        ,\n",
       "        0.98245614, 0.96491228, 0.98245614, 0.96491228, 0.98214286]])"
      ]
     },
     "execution_count": 26,
     "metadata": {},
     "output_type": "execute_result"
    }
   ],
   "source": [
    "test_scores"
   ]
  },
  {
   "cell_type": "code",
   "execution_count": 27,
   "metadata": {},
   "outputs": [],
   "source": [
    "train_mean=np.mean(train_scores,axis=1)"
   ]
  },
  {
   "cell_type": "code",
   "execution_count": 28,
   "metadata": {},
   "outputs": [
    {
     "data": {
      "text/plain": [
       "array([1.   , 1.   , 0.996, 1.   , 1.   , 1.   , 1.   , 1.   , 1.   ,\n",
       "       1.   , 1.   , 1.   , 1.   , 1.   , 1.   , 1.   , 1.   , 1.   ,\n",
       "       1.   , 1.   , 1.   , 1.   , 1.   , 1.   , 1.   , 1.   , 1.   ,\n",
       "       1.   , 1.   , 1.   , 1.   , 1.   , 1.   , 1.   , 1.   , 1.   ,\n",
       "       1.   , 1.   , 1.   , 1.   , 1.   , 1.   , 1.   , 1.   , 1.   ,\n",
       "       1.   , 1.   , 1.   , 1.   , 1.   ])"
      ]
     },
     "execution_count": 28,
     "metadata": {},
     "output_type": "execute_result"
    }
   ],
   "source": [
    "train_mean"
   ]
  },
  {
   "cell_type": "code",
   "execution_count": 29,
   "metadata": {},
   "outputs": [
    {
     "data": {
      "text/plain": [
       "array([0.   , 0.   , 0.012, 0.   , 0.   , 0.   , 0.   , 0.   , 0.   ,\n",
       "       0.   , 0.   , 0.   , 0.   , 0.   , 0.   , 0.   , 0.   , 0.   ,\n",
       "       0.   , 0.   , 0.   , 0.   , 0.   , 0.   , 0.   , 0.   , 0.   ,\n",
       "       0.   , 0.   , 0.   , 0.   , 0.   , 0.   , 0.   , 0.   , 0.   ,\n",
       "       0.   , 0.   , 0.   , 0.   , 0.   , 0.   , 0.   , 0.   , 0.   ,\n",
       "       0.   , 0.   , 0.   , 0.   , 0.   ])"
      ]
     },
     "execution_count": 29,
     "metadata": {},
     "output_type": "execute_result"
    }
   ],
   "source": [
    "train_std=np.std(train_scores,axis=1)\n",
    "train_std"
   ]
  },
  {
   "cell_type": "code",
   "execution_count": 31,
   "metadata": {},
   "outputs": [
    {
     "data": {
      "text/plain": [
       "array([0.37258772, 0.37258772, 0.76112155, 0.76983083, 0.69401629,\n",
       "       0.83480576, 0.85767544, 0.88405388, 0.89279449, 0.91566416,\n",
       "       0.91920426, 0.92794486, 0.93151629, 0.93148496, 0.94201128,\n",
       "       0.94730576, 0.94733709, 0.94552005, 0.94902882, 0.94379699,\n",
       "       0.94730576, 0.94909148, 0.95435464, 0.94382832, 0.94733709,\n",
       "       0.95084586, 0.94909148, 0.94733709, 0.94909148, 0.94558271,\n",
       "       0.94909148, 0.95435464, 0.94730576, 0.95084586, 0.96312657,\n",
       "       0.95961779, 0.96137218, 0.95961779, 0.95786341, 0.96312657,\n",
       "       0.96491228, 0.96140351, 0.96137218, 0.96842105, 0.96663534,\n",
       "       0.96666667, 0.96137218, 0.96312657, 0.95961779, 0.96312657])"
      ]
     },
     "execution_count": 31,
     "metadata": {},
     "output_type": "execute_result"
    }
   ],
   "source": [
    "test_mean=np.mean(test_scores,axis=1)\n",
    "test_mean"
   ]
  },
  {
   "cell_type": "code",
   "execution_count": 32,
   "metadata": {},
   "outputs": [
    {
     "data": {
      "text/plain": [
       "array([0.00696596, 0.00696596, 0.13554771, 0.13770642, 0.13579807,\n",
       "       0.04378755, 0.05339766, 0.05027516, 0.03879094, 0.03486345,\n",
       "       0.03518896, 0.02876888, 0.03542184, 0.03629763, 0.03423096,\n",
       "       0.03592412, 0.03592375, 0.03547673, 0.02983142, 0.04279962,\n",
       "       0.03920168, 0.03366978, 0.03435334, 0.03212094, 0.03592375,\n",
       "       0.03660576, 0.03714679, 0.04222529, 0.03714679, 0.03714383,\n",
       "       0.03545094, 0.03155123, 0.03759863, 0.03307192, 0.02138697,\n",
       "       0.02720931, 0.03213805, 0.03140981, 0.03155471, 0.03081982,\n",
       "       0.03328713, 0.03491184, 0.03308189, 0.03401881, 0.03956836,\n",
       "       0.02877407, 0.02453472, 0.02278069, 0.02831791, 0.03275632])"
      ]
     },
     "execution_count": 32,
     "metadata": {},
     "output_type": "execute_result"
    }
   ],
   "source": [
    "test_std=np.std(test_scores,axis=1)\n",
    "test_std"
   ]
  },
  {
   "cell_type": "code",
   "execution_count": 36,
   "metadata": {},
   "outputs": [
    {
     "data": {
      "text/plain": [
       "<matplotlib.legend.Legend at 0x2bddc2fc910>"
      ]
     },
     "execution_count": 36,
     "metadata": {},
     "output_type": "execute_result"
    },
    {
     "data": {
      "image/png": "[encoded data removed]",
      "text/plain": [
       "<Figure size 432x288 with 1 Axes>"
      ]
     },
     "metadata": {
      "needs_background": "light"
     },
     "output_type": "display_data"
    }
   ],
   "source": [
    "plt.plot(train_sizes,train_mean,label='training score')\n",
    "plt.plot(train_sizes,test_mean,label='cross-validation score')\n",
    "plt.title('learning curve')\n",
    "plt.xlabel(\"training size\")\n",
    "plt.ylabel(\"accuracy\")\n",
    "plt.legend(loc='best')\n"
   ]
  },
  {
   "cell_type": "code",
   "execution_count": 37,
   "metadata": {},
   "outputs": [
    {
     "data": {
      "text/plain": [
       "<matplotlib.legend.Legend at 0x2bddc33dac0>"
      ]
     },
     "execution_count": 37,
     "metadata": {},
     "output_type": "execute_result"
    },
    {
     "data": {
      "image/png": "[encoded data removed]",
      "text/plain": [
       "<Figure size 432x288 with 1 Axes>"
      ]
     },
     "metadata": {
      "needs_background": "light"
     },
     "output_type": "display_data"
    }
   ],
   "source": [
    "plt.plot(train_sizes,train_mean,label='training score')\n",
    "plt.plot(train_sizes,test_mean,label='cross-validation score')\n",
    "plt.fill_between(train_sizes,train_mean-train_std,train_mean+train_std,color='#DDDDDD')\n",
    "plt.fill_between(train_sizes,test_mean-test_std,test_mean+test_std,color='#DDDDDD')\n",
    "plt.title('learning curve')\n",
    "plt.xlabel(\"training size\")\n",
    "plt.ylabel(\"accuracy\")\n",
    "plt.legend(loc='best')\n"
   ]
  },
  {
   "cell_type": "code",
   "execution_count": null,
   "metadata": {},
   "outputs": [],
   "source": []
  }
 ],
 "metadata": {
  "kernelspec": {
   "display_name": "Python 3",
   "language": "python",
   "name": "python3"
  },
  "language_info": {
   "codemirror_mode": {
    "name": "ipython",
    "version": 3
   },
   "file_extension": ".py",
   "mimetype": "text/x-python",
   "name": "python",
   "nbconvert_exporter": "python",
   "pygments_lexer": "ipython3",
   "version": "3.8.3"
  }
 },
 "nbformat": 4,
 "nbformat_minor": 4
}
